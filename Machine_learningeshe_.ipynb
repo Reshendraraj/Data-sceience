{
  "cells": [
    {
      "cell_type": "code",
      "execution_count": null,
      "metadata": {
        "id": "reH5dBxCG0tO",
        "colab": {
          "base_uri": "https://localhost:8080/",
          "height": 131
        },
        "outputId": "678e6008-0385-4638-c9dd-344533c16a01"
      },
      "outputs": [
        {
          "output_type": "error",
          "ename": "SyntaxError",
          "evalue": "ignored",
          "traceback": [
            "\u001b[0;36m  File \u001b[0;32m\"<ipython-input-1-b6439d34eef3>\"\u001b[0;36m, line \u001b[0;32m2\u001b[0m\n\u001b[0;31m    def ladder pattern(x):\u001b[0m\n\u001b[0m                     ^\u001b[0m\n\u001b[0;31mSyntaxError\u001b[0m\u001b[0;31m:\u001b[0m invalid syntax\n"
          ]
        }
      ],
      "source": [
        "x=int(input())\n",
        "def ladder pattern(x):\n",
        "    for i in range(x+1):\n",
        "        print(\"   \")\n",
        "        print(\"   \")\n",
        "        if i<x:\n",
        "            print(\"****\")\n",
        "            if ('name')== \"main\"\n",
        "            ladder print(x)"
      ]
    },
    {
      "cell_type": "code",
      "execution_count": null,
      "metadata": {
        "id": "Y56dMDmTG0tR"
      },
      "outputs": [],
      "source": [
        "h=int(input('no of working hours'))\n",
        "if h<=40:\n",
        "    c=float(h*10.50)\n",
        "    print(c)\n",
        "else:\n",
        "    x=h-40\n",
        "    y=float(x*15.75)\n",
        "    m=float((10.50*40)+y)\n",
        "    print(m)"
      ]
    },
    {
      "cell_type": "code",
      "execution_count": null,
      "metadata": {
        "id": "y3pFclUFG0tS"
      },
      "outputs": [],
      "source": [
        "l=[WORDS.TXT]\n",
        "\n",
        "l.is upper()"
      ]
    },
    {
      "cell_type": "code",
      "execution_count": null,
      "metadata": {
        "id": "eVRn8PkrG0tS"
      },
      "outputs": [],
      "source": [
        "y=open(\"words.txt\",'x')\n",
        "y.write('today is our exam',)\n",
        "y.close()"
      ]
    },
    {
      "cell_type": "code",
      "execution_count": null,
      "metadata": {
        "id": "X3f2KvdlG0tT"
      },
      "outputs": [],
      "source": [
        "fh=open(\"words.txt\",'r')\n",
        "y=fh.read()\n",
        "y.upper()\n",
        "print(y)\n",
        "fh.close()"
      ]
    },
    {
      "cell_type": "code",
      "execution_count": null,
      "metadata": {
        "id": "sqvs0UFsG0tT"
      },
      "outputs": [],
      "source": [
        "y.upper()"
      ]
    },
    {
      "cell_type": "code",
      "execution_count": null,
      "metadata": {
        "id": "x03AAmRHG0tT"
      },
      "outputs": [],
      "source": [
        "a=int(input())\n",
        "n=input()\n",
        "k=n.split(\" \")\n",
        "if len(k)==a:\n",
        "   c=a\n",
        "   f=1\n",
        "   for i in range(1,a+1):\n",
        "       if i<c:\n",
        "           f=f*int(k[int(i)])\n",
        "   print(f)\n",
        "else:\n",
        "   print(\"give proper num\")"
      ]
    },
    {
      "cell_type": "markdown",
      "source": [
        "#Basic Data Types\n",
        "1.integer\n",
        "2.float\n",
        "3.complex\n",
        "4.boolean\n",
        "5.string\n"
      ],
      "metadata": {
        "id": "UqdJpHjhHAaY"
      }
    },
    {
      "cell_type": "code",
      "execution_count": null,
      "metadata": {
        "id": "qRiPSpMhG0tU"
      },
      "outputs": [],
      "source": []
    },
    {
      "cell_type": "code",
      "execution_count": null,
      "metadata": {
        "colab": {
          "base_uri": "https://localhost:8080/"
        },
        "id": "jYItiIeEG0tU",
        "outputId": "5d0f0e72-072f-4896-ae73-d7481a82fe41"
      },
      "outputs": [
        {
          "output_type": "stream",
          "name": "stdout",
          "text": [
            "8\n"
          ]
        }
      ],
      "source": [
        "# integer\n",
        "a=8\n",
        "print(a)"
      ]
    },
    {
      "cell_type": "code",
      "source": [
        "type(a)"
      ],
      "metadata": {
        "colab": {
          "base_uri": "https://localhost:8080/"
        },
        "id": "V78m2GFKI81O",
        "outputId": "aa75c99a-a443-4bd1-912c-573a39af761c"
      },
      "execution_count": null,
      "outputs": [
        {
          "output_type": "execute_result",
          "data": {
            "text/plain": [
              "int"
            ]
          },
          "metadata": {},
          "execution_count": 3
        }
      ]
    },
    {
      "cell_type": "code",
      "source": [
        "()# float\n",
        "b=2.8\n",
        "print(b)"
      ],
      "metadata": {
        "colab": {
          "base_uri": "https://localhost:8080/"
        },
        "id": "usI8RBUbJSpx",
        "outputId": "fd1a1741-4945-4fc3-d945-980e498df2ee"
      },
      "execution_count": null,
      "outputs": [
        {
          "output_type": "stream",
          "name": "stdout",
          "text": [
            "2.8\n"
          ]
        }
      ]
    },
    {
      "cell_type": "code",
      "source": [
        "type(b)"
      ],
      "metadata": {
        "colab": {
          "base_uri": "https://localhost:8080/"
        },
        "id": "L4KH_o7UJbNQ",
        "outputId": "b33e05e9-900e-41c4-c389-1fe1faf6a950"
      },
      "execution_count": null,
      "outputs": [
        {
          "output_type": "execute_result",
          "data": {
            "text/plain": [
              "float"
            ]
          },
          "metadata": {},
          "execution_count": 5
        }
      ]
    },
    {
      "cell_type": "code",
      "source": [
        "# complex number\n",
        "c= 1+3j\n",
        "print(c)"
      ],
      "metadata": {
        "colab": {
          "base_uri": "https://localhost:8080/"
        },
        "id": "Qz10lYlQJcwH",
        "outputId": "d58c5357-426a-4ddf-9339-c0ec55b2aa6f"
      },
      "execution_count": null,
      "outputs": [
        {
          "output_type": "stream",
          "name": "stdout",
          "text": [
            "(1+3j)\n"
          ]
        }
      ]
    },
    {
      "cell_type": "code",
      "source": [
        "type(c)"
      ],
      "metadata": {
        "colab": {
          "base_uri": "https://localhost:8080/"
        },
        "id": "6OruT1-nJrEL",
        "outputId": "1ae0d218-2f4d-402b-8059-d346fc6bc291"
      },
      "execution_count": null,
      "outputs": [
        {
          "output_type": "execute_result",
          "data": {
            "text/plain": [
              "complex"
            ]
          },
          "metadata": {},
          "execution_count": 7
        }
      ]
    },
    {
      "cell_type": "markdown",
      "source": [
        "conversion one type of data to another"
      ],
      "metadata": {
        "id": "LE_N0CVaJzRU"
      }
    },
    {
      "cell_type": "code",
      "source": [
        "# int to float\n",
        "x=10\n",
        "print(x)\n",
        "y=float(x)"
      ],
      "metadata": {
        "colab": {
          "base_uri": "https://localhost:8080/"
        },
        "id": "VCWRPeoMJsay",
        "outputId": "76c073e5-d418-4907-873e-482f82db7e57"
      },
      "execution_count": null,
      "outputs": [
        {
          "output_type": "stream",
          "name": "stdout",
          "text": [
            "10\n"
          ]
        }
      ]
    },
    {
      "cell_type": "code",
      "source": [
        "type(y)"
      ],
      "metadata": {
        "colab": {
          "base_uri": "https://localhost:8080/"
        },
        "id": "bhUCplFzKG_C",
        "outputId": "8f6b77a7-5e2a-45a5-a37b-43655c0e31e1"
      },
      "execution_count": null,
      "outputs": [
        {
          "output_type": "execute_result",
          "data": {
            "text/plain": [
              "float"
            ]
          },
          "metadata": {},
          "execution_count": 9
        }
      ]
    },
    {
      "cell_type": "markdown",
      "source": [
        "Boolean\n",
        "\n",
        "True\n",
        "False"
      ],
      "metadata": {
        "id": "15UN88dGKpgC"
      }
    },
    {
      "cell_type": "code",
      "source": [
        "a=True\n",
        "print(a)\n"
      ],
      "metadata": {
        "colab": {
          "base_uri": "https://localhost:8080/"
        },
        "id": "s4c3xYb1KJD-",
        "outputId": "d440059c-d24a-4cc4-c930-304085b1b0f5"
      },
      "execution_count": null,
      "outputs": [
        {
          "output_type": "stream",
          "name": "stdout",
          "text": [
            "True\n"
          ]
        }
      ]
    },
    {
      "cell_type": "code",
      "source": [
        "b=False\n",
        "b"
      ],
      "metadata": {
        "colab": {
          "base_uri": "https://localhost:8080/"
        },
        "id": "ZuVXpFBcK_V0",
        "outputId": "f5e7ad6c-9289-4f08-b05a-da669075b4a7"
      },
      "execution_count": null,
      "outputs": [
        {
          "output_type": "execute_result",
          "data": {
            "text/plain": [
              "False"
            ]
          },
          "metadata": {},
          "execution_count": 11
        }
      ]
    },
    {
      "cell_type": "code",
      "source": [
        "a= 7<3\n",
        "a"
      ],
      "metadata": {
        "colab": {
          "base_uri": "https://localhost:8080/"
        },
        "id": "FKdj8YzgLF9n",
        "outputId": "d1e12242-6b2c-42dd-c405-0fa62fd2d411"
      },
      "execution_count": null,
      "outputs": [
        {
          "output_type": "execute_result",
          "data": {
            "text/plain": [
              "False"
            ]
          },
          "metadata": {},
          "execution_count": 12
        }
      ]
    },
    {
      "cell_type": "code",
      "source": [
        "b= 7>3\n",
        "b"
      ],
      "metadata": {
        "colab": {
          "base_uri": "https://localhost:8080/"
        },
        "id": "RVcx5FldLTP-",
        "outputId": "f7e58ccb-ea22-4597-ec5f-ec7465440ac8"
      },
      "execution_count": null,
      "outputs": [
        {
          "output_type": "execute_result",
          "data": {
            "text/plain": [
              "True"
            ]
          },
          "metadata": {},
          "execution_count": 14
        }
      ]
    },
    {
      "cell_type": "markdown",
      "source": [
        "string"
      ],
      "metadata": {
        "id": "WDtpnT5uLojD"
      }
    },
    {
      "cell_type": "code",
      "source": [
        "print('machine learning')"
      ],
      "metadata": {
        "colab": {
          "base_uri": "https://localhost:8080/"
        },
        "id": "TvbjD66jLeuu",
        "outputId": "05c8ac0a-9404-40a3-8a9e-901714e32a7d"
      },
      "execution_count": null,
      "outputs": [
        {
          "output_type": "stream",
          "name": "stdout",
          "text": [
            "machine learning\n"
          ]
        }
      ]
    },
    {
      "cell_type": "code",
      "source": [
        "print('reshe' *5)"
      ],
      "metadata": {
        "colab": {
          "base_uri": "https://localhost:8080/"
        },
        "id": "Pi74nwIaLvFv",
        "outputId": "4b9fe729-f4f9-488a-d01e-26241e51db3c"
      },
      "execution_count": null,
      "outputs": [
        {
          "output_type": "stream",
          "name": "stdout",
          "text": [
            "reshereshereshereshereshe\n"
          ]
        }
      ]
    },
    {
      "cell_type": "markdown",
      "source": [
        "slicing"
      ],
      "metadata": {
        "id": "_GgaATrgMPL-"
      }
    },
    {
      "cell_type": "code",
      "source": [
        "my_string = ('programming')\n",
        "print(my_string[0:5])                  # indexing in python n to n-1 wbich means 1-  5-1"
      ],
      "metadata": {
        "colab": {
          "base_uri": "https://localhost:8080/"
        },
        "id": "j6n3-bhEMIID",
        "outputId": "289fdf21-b28f-4a08-dea4-3367c0bef642"
      },
      "execution_count": null,
      "outputs": [
        {
          "output_type": "stream",
          "name": "stdout",
          "text": [
            "progr\n"
          ]
        }
      ]
    },
    {
      "cell_type": "markdown",
      "source": [
        "slice by step value"
      ],
      "metadata": {
        "id": "a4Vw5EJVNRh6"
      }
    },
    {
      "cell_type": "code",
      "source": [
        "print(my_string [0:10:1])"
      ],
      "metadata": {
        "colab": {
          "base_uri": "https://localhost:8080/"
        },
        "id": "pdmD-UHnMqLw",
        "outputId": "3ba97656-bc4c-4d88-fc33-a8b0dada60da"
      },
      "execution_count": null,
      "outputs": [
        {
          "output_type": "stream",
          "name": "stdout",
          "text": [
            "programmin\n"
          ]
        }
      ]
    },
    {
      "cell_type": "markdown",
      "source": [
        "string concantination"
      ],
      "metadata": {
        "id": "oKnO2b7VNxRx"
      }
    },
    {
      "cell_type": "code",
      "source": [
        "word_1 = ('machine ')\n",
        "word_2 = ('learning')\n",
        "print(word_1+word_2)"
      ],
      "metadata": {
        "colab": {
          "base_uri": "https://localhost:8080/"
        },
        "id": "JRMURloDNi9c",
        "outputId": "306ce1df-85f7-413c-be15-c46f9ac24a4e"
      },
      "execution_count": null,
      "outputs": [
        {
          "output_type": "stream",
          "name": "stdout",
          "text": [
            "machine learning\n"
          ]
        }
      ]
    },
    {
      "cell_type": "markdown",
      "source": [
        "special data types"
      ],
      "metadata": {
        "id": "wkAVEo4rOf4S"
      }
    },
    {
      "cell_type": "markdown",
      "source": [
        "mutable objects\n",
        "1int\n",
        "2.float\n",
        "3.string\n",
        "4.bool\n",
        "5tuple\n",
        "\n",
        "immtable objects\n",
        "1.list\n",
        "2.set\n",
        "3. dictionary"
      ],
      "metadata": {
        "id": "JzNzA-CjOvDn"
      }
    },
    {
      "cell_type": "markdown",
      "source": [
        "List"
      ],
      "metadata": {
        "id": "YD0VDwz6Pg4S"
      }
    },
    {
      "cell_type": "code",
      "source": [
        "my_list = [1,2,3,4]\n",
        "print(my_list)     # list can be stored various types of data"
      ],
      "metadata": {
        "colab": {
          "base_uri": "https://localhost:8080/"
        },
        "id": "M_ShalegOIfx",
        "outputId": "066c1107-a11f-4a66-d1bc-a8cb1eb08b10"
      },
      "execution_count": null,
      "outputs": [
        {
          "output_type": "stream",
          "name": "stdout",
          "text": [
            "[1, 2, 3, 4]\n"
          ]
        }
      ]
    },
    {
      "cell_type": "code",
      "source": [
        "my_list = [1,2,3,'reshe',True]\n",
        "print(my_list)"
      ],
      "metadata": {
        "colab": {
          "base_uri": "https://localhost:8080/"
        },
        "id": "Ascq6PnGQJPI",
        "outputId": "2d3c2767-6f05-47cd-e88f-548bd8bd9fd0"
      },
      "execution_count": null,
      "outputs": [
        {
          "output_type": "stream",
          "name": "stdout",
          "text": [
            "[1, 2, 3, 'reshe', True]\n"
          ]
        }
      ]
    },
    {
      "cell_type": "code",
      "source": [
        "# add element\n",
        "my_list.append(6)\n",
        "print(my_list)     # list allows duplicate values     # data can be removed or deleted"
      ],
      "metadata": {
        "colab": {
          "base_uri": "https://localhost:8080/"
        },
        "id": "Phni6xkpQZwG",
        "outputId": "610446ba-9141-48f8-98c8-e8604aa093a2"
      },
      "execution_count": null,
      "outputs": [
        {
          "output_type": "stream",
          "name": "stdout",
          "text": [
            "[1, 2, 3, 'reshe', True, 5, 5, 6, 6]\n"
          ]
        }
      ]
    },
    {
      "cell_type": "code",
      "source": [
        "print(len(my_list))"
      ],
      "metadata": {
        "colab": {
          "base_uri": "https://localhost:8080/"
        },
        "id": "7OroZUDnQw18",
        "outputId": "2110ad9d-ed6f-4b42-8c63-84e91c0e03ae"
      },
      "execution_count": null,
      "outputs": [
        {
          "output_type": "stream",
          "name": "stdout",
          "text": [
            "9\n"
          ]
        }
      ]
    },
    {
      "cell_type": "code",
      "source": [
        "list_2 = [5,6,'reshe',7]\n",
        "del list_2 [2]\n",
        "print(list_2)"
      ],
      "metadata": {
        "colab": {
          "base_uri": "https://localhost:8080/"
        },
        "id": "oMAUciMjRmpw",
        "outputId": "e4136b13-6785-43dd-f7e1-c919f106bd91"
      },
      "execution_count": null,
      "outputs": [
        {
          "output_type": "stream",
          "name": "stdout",
          "text": [
            "[5, 6, 7]\n"
          ]
        }
      ]
    },
    {
      "cell_type": "code",
      "source": [
        "list_3= [1,2,3,4,5]\n",
        "list_4= [5,6,7,8,9]\n",
        "list_5 = list_3 +list_4\n",
        "print(list_5)"
      ],
      "metadata": {
        "colab": {
          "base_uri": "https://localhost:8080/"
        },
        "id": "df4y8bVGSWAR",
        "outputId": "3f786377-1f29-4681-95b8-8ba00b05b76a"
      },
      "execution_count": null,
      "outputs": [
        {
          "output_type": "stream",
          "name": "stdout",
          "text": [
            "[1, 2, 3, 4, 5, 5, 6, 7, 8, 9]\n"
          ]
        }
      ]
    },
    {
      "cell_type": "markdown",
      "source": [
        "tuple"
      ],
      "metadata": {
        "id": "RQNAeQDkTGo-"
      }
    },
    {
      "cell_type": "code",
      "source": [
        "# tuples are immutable  and also tuples allows multiple data points"
      ],
      "metadata": {
        "id": "t7TVjNbuS_EC"
      },
      "execution_count": null,
      "outputs": []
    },
    {
      "cell_type": "code",
      "source": [
        "tuple_2 =(1,2,3,4.5,'reshe',True)\n",
        "print(tuple_2)"
      ],
      "metadata": {
        "colab": {
          "base_uri": "https://localhost:8080/"
        },
        "id": "eQb_1Zo5TJz8",
        "outputId": "735fc844-f7a2-4c18-e002-7accc85226ec"
      },
      "execution_count": null,
      "outputs": [
        {
          "output_type": "stream",
          "name": "stdout",
          "text": [
            "(1, 2, 3, 4.5, 'reshe', True)\n"
          ]
        }
      ]
    },
    {
      "cell_type": "code",
      "source": [
        "# convert list to tuple"
      ],
      "metadata": {
        "id": "0znjZ897ToXn"
      },
      "execution_count": null,
      "outputs": []
    },
    {
      "cell_type": "code",
      "source": [
        "my_list = [1,2,3,4,4]\n",
        "print(my_list)\n",
        "my_tuple = tuple(my_list)\n",
        "print(my_tuple)"
      ],
      "metadata": {
        "colab": {
          "base_uri": "https://localhost:8080/"
        },
        "id": "ZovLCUEyT9dw",
        "outputId": "8dd11ba9-4dac-4336-adc2-42b93a33642b"
      },
      "execution_count": null,
      "outputs": [
        {
          "output_type": "stream",
          "name": "stdout",
          "text": [
            "[1, 2, 3, 4, 4]\n",
            "(1, 2, 3, 4, 4)\n"
          ]
        }
      ]
    },
    {
      "cell_type": "code",
      "source": [
        "print(my_tuple[0:2])"
      ],
      "metadata": {
        "colab": {
          "base_uri": "https://localhost:8080/"
        },
        "id": "l9I1mAkQUEdx",
        "outputId": "1cd854da-da45-4c87-d0bd-36e1d30e1f56"
      },
      "execution_count": null,
      "outputs": [
        {
          "output_type": "stream",
          "name": "stdout",
          "text": [
            "(1, 2)\n"
          ]
        }
      ]
    },
    {
      "cell_type": "markdown",
      "source": [
        "set"
      ],
      "metadata": {
        "id": "0ThZ-IYUU5fK"
      }
    },
    {
      "cell_type": "code",
      "source": [
        "# set does not support the indexing and set does not allows duplicate values"
      ],
      "metadata": {
        "id": "WEJD51LGUjb_"
      },
      "execution_count": null,
      "outputs": []
    },
    {
      "cell_type": "markdown",
      "source": [
        "Numpy"
      ],
      "metadata": {
        "id": "aeMvclKJVhW1"
      }
    },
    {
      "cell_type": "code",
      "source": [
        "import numpy as np"
      ],
      "metadata": {
        "id": "oBntB_icU_Ko"
      },
      "execution_count": null,
      "outputs": []
    },
    {
      "cell_type": "code",
      "source": [
        "!cat/proc/cpuinfo"
      ],
      "metadata": {
        "colab": {
          "base_uri": "https://localhost:8080/"
        },
        "id": "XSxaxun0bunm",
        "outputId": "12f4d481-c76c-4447-d813-ee702b8d2d8b"
      },
      "execution_count": null,
      "outputs": [
        {
          "output_type": "stream",
          "name": "stdout",
          "text": [
            "/bin/bash: cat/proc/cpuinfo: No such file or directory\n"
          ]
        }
      ]
    },
    {
      "cell_type": "code",
      "source": [
        "!cat/proc/mem info"
      ],
      "metadata": {
        "colab": {
          "base_uri": "https://localhost:8080/"
        },
        "id": "tfjwv4WldhWf",
        "outputId": "ae58003a-38cf-4e46-a39a-34541204f941"
      },
      "execution_count": null,
      "outputs": [
        {
          "output_type": "stream",
          "name": "stdout",
          "text": [
            "/bin/bash: cat/proc/mem: No such file or directory\n"
          ]
        }
      ]
    },
    {
      "cell_type": "code",
      "source": [
        "# arrays"
      ],
      "metadata": {
        "id": "YP9XAP7odyMU"
      },
      "execution_count": null,
      "outputs": []
    },
    {
      "cell_type": "code",
      "source": [
        "x= np.full((4,5),5)\n",
        "x"
      ],
      "metadata": {
        "colab": {
          "base_uri": "https://localhost:8080/"
        },
        "id": "9kxGUC73g8gQ",
        "outputId": "f4606822-8357-40fe-c7cd-42045e050472"
      },
      "execution_count": null,
      "outputs": [
        {
          "output_type": "execute_result",
          "data": {
            "text/plain": [
              "array([[5, 5, 5, 5, 5],\n",
              "       [5, 5, 5, 5, 5],\n",
              "       [5, 5, 5, 5, 5],\n",
              "       [5, 5, 5, 5, 5]])"
            ]
          },
          "metadata": {},
          "execution_count": 10
        }
      ]
    },
    {
      "cell_type": "code",
      "source": [
        "y = np.eye(6)\n",
        "y"
      ],
      "metadata": {
        "colab": {
          "base_uri": "https://localhost:8080/"
        },
        "id": "etLxsL3PhDfr",
        "outputId": "0356b883-16cf-4269-e92e-1b0212e7dd97"
      },
      "execution_count": null,
      "outputs": [
        {
          "output_type": "execute_result",
          "data": {
            "text/plain": [
              "array([[1., 0., 0., 0., 0., 0.],\n",
              "       [0., 1., 0., 0., 0., 0.],\n",
              "       [0., 0., 1., 0., 0., 0.],\n",
              "       [0., 0., 0., 1., 0., 0.],\n",
              "       [0., 0., 0., 0., 1., 0.],\n",
              "       [0., 0., 0., 0., 0., 1.]])"
            ]
          },
          "metadata": {},
          "execution_count": 13
        }
      ]
    },
    {
      "cell_type": "code",
      "source": [
        "z = np.ones((3,4))\n",
        "z"
      ],
      "metadata": {
        "colab": {
          "base_uri": "https://localhost:8080/"
        },
        "id": "KI5aw_RmhP8N",
        "outputId": "98198992-dec7-4eb9-96c3-97895e204a66"
      },
      "execution_count": null,
      "outputs": [
        {
          "output_type": "execute_result",
          "data": {
            "text/plain": [
              "array([[1., 1., 1., 1.],\n",
              "       [1., 1., 1., 1.],\n",
              "       [1., 1., 1., 1.]])"
            ]
          },
          "metadata": {},
          "execution_count": 15
        }
      ]
    },
    {
      "cell_type": "code",
      "source": [
        "n = np.zeros((3,5))\n",
        "n"
      ],
      "metadata": {
        "colab": {
          "base_uri": "https://localhost:8080/"
        },
        "id": "Lj6Bsdh8hazJ",
        "outputId": "96d2551a-b084-4039-cb78-a322b21fc35a"
      },
      "execution_count": null,
      "outputs": [
        {
          "output_type": "execute_result",
          "data": {
            "text/plain": [
              "array([[0., 0., 0., 0., 0.],\n",
              "       [0., 0., 0., 0., 0.],\n",
              "       [0., 0., 0., 0., 0.]])"
            ]
          },
          "metadata": {},
          "execution_count": 17
        }
      ]
    },
    {
      "cell_type": "code",
      "source": [
        "# creating numpy array of random values\n",
        "k= np.random.random((3,5))\n",
        "k"
      ],
      "metadata": {
        "colab": {
          "base_uri": "https://localhost:8080/"
        },
        "id": "9PfIjS_ehiuj",
        "outputId": "30217eab-8e72-4b32-8e2a-4cc34caa20a5"
      },
      "execution_count": null,
      "outputs": [
        {
          "output_type": "execute_result",
          "data": {
            "text/plain": [
              "array([[0.60430757, 0.58029825, 0.81887071, 0.67743514, 0.40681303],\n",
              "       [0.61520511, 0.07643557, 0.36563278, 0.94561366, 0.29292977],\n",
              "       [0.01002208, 0.45229745, 0.66866415, 0.73842932, 0.22988758]])"
            ]
          },
          "metadata": {},
          "execution_count": 24
        }
      ]
    },
    {
      "cell_type": "code",
      "source": [
        "z = np.random.randint(1,100,(3,5))\n",
        "z"
      ],
      "metadata": {
        "colab": {
          "base_uri": "https://localhost:8080/"
        },
        "id": "6FJB9VDfh-W7",
        "outputId": "13d3e613-7dd1-4871-a7a5-0c01765fd2ec"
      },
      "execution_count": null,
      "outputs": [
        {
          "output_type": "execute_result",
          "data": {
            "text/plain": [
              "array([[15, 38, 29, 99, 78],\n",
              "       [32, 63, 67, 25,  8],\n",
              "       [96, 21, 99, 52, 44]])"
            ]
          },
          "metadata": {},
          "execution_count": 26
        }
      ]
    },
    {
      "cell_type": "code",
      "source": [
        "d= np.linspace(10,30,6)\n",
        "d            # specifying the number of values requried"
      ],
      "metadata": {
        "colab": {
          "base_uri": "https://localhost:8080/"
        },
        "id": "3LCEJX-8id2j",
        "outputId": "7b9c4bdb-c9e2-49f7-e335-e7950660c4d8"
      },
      "execution_count": null,
      "outputs": [
        {
          "output_type": "execute_result",
          "data": {
            "text/plain": [
              "array([10., 14., 18., 22., 26., 30.])"
            ]
          },
          "metadata": {},
          "execution_count": 27
        }
      ]
    },
    {
      "cell_type": "code",
      "source": [
        "r = np.arange(10,30,5)\n",
        "r                # evenlly space values of step"
      ],
      "metadata": {
        "colab": {
          "base_uri": "https://localhost:8080/"
        },
        "id": "OTQUuGSRjHBU",
        "outputId": "e838566c-5be2-4879-ea7a-90f1105abb1a"
      },
      "execution_count": null,
      "outputs": [
        {
          "output_type": "execute_result",
          "data": {
            "text/plain": [
              "array([10, 15, 20, 25])"
            ]
          },
          "metadata": {},
          "execution_count": 29
        }
      ]
    },
    {
      "cell_type": "code",
      "source": [
        "# convert list to array\n",
        "list_2 = [10,2,3,5,67]\n",
        "np_array = np.asarray(list_2)\n",
        "type(np_array)"
      ],
      "metadata": {
        "colab": {
          "base_uri": "https://localhost:8080/"
        },
        "id": "wBV49R15jYX6",
        "outputId": "fcc1493a-a055-4b5d-e3b9-18d1539f16a0"
      },
      "execution_count": null,
      "outputs": [
        {
          "output_type": "execute_result",
          "data": {
            "text/plain": [
              "numpy.ndarray"
            ]
          },
          "metadata": {},
          "execution_count": 32
        }
      ]
    },
    {
      "cell_type": "code",
      "source": [
        "r = [1,2,3,4,5]\n",
        "m = [6,6,7,7,7]\n",
        "print(r+m)"
      ],
      "metadata": {
        "colab": {
          "base_uri": "https://localhost:8080/"
        },
        "id": "_JIS0iBTkTc4",
        "outputId": "a3f29408-788b-45ea-b230-3009a62b996f"
      },
      "execution_count": null,
      "outputs": [
        {
          "output_type": "stream",
          "name": "stdout",
          "text": [
            "[1, 2, 3, 4, 5, 6, 6, 7, 7, 7]\n"
          ]
        }
      ]
    },
    {
      "cell_type": "code",
      "source": [
        "\n"
      ],
      "metadata": {
        "id": "rkNcGVcIlVlG"
      },
      "execution_count": null,
      "outputs": []
    },
    {
      "cell_type": "code",
      "source": [
        "a = np.random.randint(0,10,(3,3))\n",
        "b = np.random.randint(0,20,(3,3))\n",
        "print(a)\n",
        "print(b)\n",
        "print(a+b)\n",
        "print(a-b)\n",
        "print(a*b)\n",
        "print(np.add(a,b))\n",
        "print(np.subtract(a,b))\n",
        "print(np.multiply(a,b))\n",
        "print(np.divide(a,b))"
      ],
      "metadata": {
        "colab": {
          "base_uri": "https://localhost:8080/"
        },
        "id": "BTwpIjx4lwfX",
        "outputId": "9b3d8346-7e9e-4dac-cb7d-8af3d34e657e"
      },
      "execution_count": null,
      "outputs": [
        {
          "output_type": "stream",
          "name": "stdout",
          "text": [
            "[[6 2 8]\n",
            " [4 4 5]\n",
            " [9 6 5]]\n",
            "[[18  8  8]\n",
            " [16 18 14]\n",
            " [ 4  3  6]]\n",
            "[[24 10 16]\n",
            " [20 22 19]\n",
            " [13  9 11]]\n",
            "[[-12  -6   0]\n",
            " [-12 -14  -9]\n",
            " [  5   3  -1]]\n",
            "[[108  16  64]\n",
            " [ 64  72  70]\n",
            " [ 36  18  30]]\n",
            "[[24 10 16]\n",
            " [20 22 19]\n",
            " [13  9 11]]\n",
            "[[-12  -6   0]\n",
            " [-12 -14  -9]\n",
            " [  5   3  -1]]\n",
            "[[108  16  64]\n",
            " [ 64  72  70]\n",
            " [ 36  18  30]]\n",
            "[[0.33333333 0.25       1.        ]\n",
            " [0.25       0.22222222 0.35714286]\n",
            " [2.25       2.         0.83333333]]\n"
          ]
        }
      ]
    },
    {
      "cell_type": "code",
      "source": [
        "array = np.random.randint(0,10,(3,2))\n",
        "array"
      ],
      "metadata": {
        "colab": {
          "base_uri": "https://localhost:8080/"
        },
        "id": "DqNE2-_Ol6Vu",
        "outputId": "95513ee6-4bfc-404a-ecb0-ed7210d56c00"
      },
      "execution_count": null,
      "outputs": [
        {
          "output_type": "execute_result",
          "data": {
            "text/plain": [
              "array([[1, 9],\n",
              "       [3, 1],\n",
              "       [3, 2]])"
            ]
          },
          "metadata": {},
          "execution_count": 53
        }
      ]
    },
    {
      "cell_type": "code",
      "source": [
        "tans = np.transpose(array)\n",
        "tans"
      ],
      "metadata": {
        "colab": {
          "base_uri": "https://localhost:8080/"
        },
        "id": "ZJhaPsWrnejJ",
        "outputId": "224893ad-10d6-4d79-e064-ec97b29f121d"
      },
      "execution_count": null,
      "outputs": [
        {
          "output_type": "execute_result",
          "data": {
            "text/plain": [
              "array([[1, 3, 3],\n",
              "       [9, 1, 2]])"
            ]
          },
          "metadata": {},
          "execution_count": 57
        }
      ]
    },
    {
      "cell_type": "code",
      "source": [
        "a = np.random.randint(0,10,(2,3))\n",
        "a"
      ],
      "metadata": {
        "colab": {
          "base_uri": "https://localhost:8080/"
        },
        "id": "gan5RunCns56",
        "outputId": "8042582b-0490-4340-8f22-7e5eeead46b0"
      },
      "execution_count": null,
      "outputs": [
        {
          "output_type": "execute_result",
          "data": {
            "text/plain": [
              "array([[1, 4, 0],\n",
              "       [6, 9, 6]])"
            ]
          },
          "metadata": {},
          "execution_count": 59
        }
      ]
    },
    {
      "cell_type": "code",
      "source": [
        "b = a.reshape(3,2)\n",
        "b"
      ],
      "metadata": {
        "colab": {
          "base_uri": "https://localhost:8080/"
        },
        "id": "0STffhWxocpW",
        "outputId": "aba16aad-4b6a-4e81-b41a-df81f5b6ab66"
      },
      "execution_count": null,
      "outputs": [
        {
          "output_type": "execute_result",
          "data": {
            "text/plain": [
              "array([[1, 4],\n",
              "       [0, 6],\n",
              "       [9, 6]])"
            ]
          },
          "metadata": {},
          "execution_count": 61
        }
      ]
    },
    {
      "cell_type": "code",
      "source": [
        "# matplotlib"
      ],
      "metadata": {
        "id": "VNAp4BrIopqi"
      },
      "execution_count": null,
      "outputs": []
    },
    {
      "cell_type": "code",
      "source": [
        "import matplotlib.pyplot as plt\n",
        "import numpy as np\n"
      ],
      "metadata": {
        "id": "L94QI8uhpbzg"
      },
      "execution_count": null,
      "outputs": []
    },
    {
      "cell_type": "code",
      "source": [
        "x= np.linspace(0,10,100)\n",
        "y = np.sin(x)\n",
        "z = np.cos(x)\n",
        "x\n"
      ],
      "metadata": {
        "colab": {
          "base_uri": "https://localhost:8080/"
        },
        "id": "_5w6D37zp7tC",
        "outputId": "b4130226-59e3-4e36-c902-4ae0a8cd3941"
      },
      "execution_count": null,
      "outputs": [
        {
          "output_type": "execute_result",
          "data": {
            "text/plain": [
              "array([ 0.        ,  0.1010101 ,  0.2020202 ,  0.3030303 ,  0.4040404 ,\n",
              "        0.50505051,  0.60606061,  0.70707071,  0.80808081,  0.90909091,\n",
              "        1.01010101,  1.11111111,  1.21212121,  1.31313131,  1.41414141,\n",
              "        1.51515152,  1.61616162,  1.71717172,  1.81818182,  1.91919192,\n",
              "        2.02020202,  2.12121212,  2.22222222,  2.32323232,  2.42424242,\n",
              "        2.52525253,  2.62626263,  2.72727273,  2.82828283,  2.92929293,\n",
              "        3.03030303,  3.13131313,  3.23232323,  3.33333333,  3.43434343,\n",
              "        3.53535354,  3.63636364,  3.73737374,  3.83838384,  3.93939394,\n",
              "        4.04040404,  4.14141414,  4.24242424,  4.34343434,  4.44444444,\n",
              "        4.54545455,  4.64646465,  4.74747475,  4.84848485,  4.94949495,\n",
              "        5.05050505,  5.15151515,  5.25252525,  5.35353535,  5.45454545,\n",
              "        5.55555556,  5.65656566,  5.75757576,  5.85858586,  5.95959596,\n",
              "        6.06060606,  6.16161616,  6.26262626,  6.36363636,  6.46464646,\n",
              "        6.56565657,  6.66666667,  6.76767677,  6.86868687,  6.96969697,\n",
              "        7.07070707,  7.17171717,  7.27272727,  7.37373737,  7.47474747,\n",
              "        7.57575758,  7.67676768,  7.77777778,  7.87878788,  7.97979798,\n",
              "        8.08080808,  8.18181818,  8.28282828,  8.38383838,  8.48484848,\n",
              "        8.58585859,  8.68686869,  8.78787879,  8.88888889,  8.98989899,\n",
              "        9.09090909,  9.19191919,  9.29292929,  9.39393939,  9.49494949,\n",
              "        9.5959596 ,  9.6969697 ,  9.7979798 ,  9.8989899 , 10.        ])"
            ]
          },
          "metadata": {},
          "execution_count": 69
        }
      ]
    },
    {
      "cell_type": "code",
      "source": [
        "print(y)"
      ],
      "metadata": {
        "colab": {
          "base_uri": "https://localhost:8080/"
        },
        "id": "geHUfDy7qcMk",
        "outputId": "d0bd73bc-a256-4987-f12f-a7bb0e9127f8"
      },
      "execution_count": null,
      "outputs": [
        {
          "output_type": "stream",
          "name": "stdout",
          "text": [
            "[ 0.          0.10083842  0.20064886  0.2984138   0.39313661  0.48385164\n",
            "  0.56963411  0.64960951  0.72296256  0.78894546  0.84688556  0.8961922\n",
            "  0.93636273  0.96698762  0.98775469  0.99845223  0.99897117  0.98930624\n",
            "  0.96955595  0.93992165  0.90070545  0.85230712  0.79522006  0.73002623\n",
            "  0.65739025  0.57805259  0.49282204  0.40256749  0.30820902  0.21070855\n",
            "  0.11106004  0.01027934 -0.09060615 -0.19056796 -0.28858706 -0.38366419\n",
            " -0.47483011 -0.56115544 -0.64176014 -0.7158225  -0.7825875  -0.84137452\n",
            " -0.89158426 -0.93270486 -0.96431712 -0.98609877 -0.99782778 -0.99938456\n",
            " -0.99075324 -0.97202182 -0.94338126 -0.90512352 -0.85763861 -0.80141062\n",
            " -0.73701276 -0.66510151 -0.58640998 -0.50174037 -0.41195583 -0.31797166\n",
            " -0.22074597 -0.12126992 -0.0205576   0.0803643   0.18046693  0.27872982\n",
            "  0.37415123  0.46575841  0.55261747  0.63384295  0.7086068   0.77614685\n",
            "  0.83577457  0.8868821   0.92894843  0.96154471  0.98433866  0.99709789\n",
            "  0.99969234  0.99209556  0.97438499  0.94674118  0.90944594  0.86287948\n",
            "  0.8075165   0.74392141  0.6727425   0.59470541  0.51060568  0.42130064\n",
            "  0.32770071  0.23076008  0.13146699  0.03083368 -0.07011396 -0.17034683\n",
            " -0.26884313 -0.36459873 -0.45663749 -0.54402111]\n"
          ]
        }
      ]
    },
    {
      "cell_type": "code",
      "source": [
        "print(z)"
      ],
      "metadata": {
        "colab": {
          "base_uri": "https://localhost:8080/"
        },
        "id": "yAxzKW4RqqbS",
        "outputId": "4677fea3-81d6-4bff-98db-e5c8950d574d"
      },
      "execution_count": null,
      "outputs": [
        {
          "output_type": "stream",
          "name": "stdout",
          "text": [
            "[ 1.          0.99490282  0.97966323  0.95443659  0.91948007  0.87515004\n",
            "  0.8218984   0.76026803  0.69088721  0.61446323  0.53177518  0.44366602\n",
            "  0.35103397  0.25482335  0.15601496  0.0556161  -0.04534973 -0.14585325\n",
            " -0.24486989 -0.34139023 -0.43443032 -0.52304166 -0.60632092 -0.68341913\n",
            " -0.75355031 -0.81599952 -0.87013012 -0.91539031 -0.95131866 -0.97754893\n",
            " -0.9938137  -0.99994717 -0.9958868  -0.981674   -0.95745366 -0.92347268\n",
            " -0.88007748 -0.82771044 -0.76690542 -0.69828229 -0.6225406  -0.54045251\n",
            " -0.45285485 -0.36064061 -0.26474988 -0.16616018 -0.06587659  0.03507857\n",
            "  0.13567613  0.23489055  0.33171042  0.4251487   0.51425287  0.59811455\n",
            "  0.67587883  0.74675295  0.8100144   0.86501827  0.91120382  0.94810022\n",
            "  0.97533134  0.99261957  0.99978867  0.99676556  0.98358105  0.96036956\n",
            "  0.9273677   0.88491192  0.83343502  0.77346177  0.70560358  0.63055219\n",
            "  0.54907273  0.46199582  0.37020915  0.27464844  0.17628785  0.07613012\n",
            " -0.0248037  -0.12548467 -0.2248864  -0.32199555 -0.41582217 -0.50540974\n",
            " -0.58984498 -0.66826712 -0.7398767  -0.8039437  -0.859815   -0.90692104\n",
            " -0.94478159 -0.97301068 -0.99132055 -0.99952453 -0.99753899 -0.98538417\n",
            " -0.96318398 -0.93116473 -0.88965286 -0.83907153]\n"
          ]
        }
      ]
    },
    {
      "cell_type": "code",
      "source": [
        "# plotting"
      ],
      "metadata": {
        "id": "stNpTp9Dqs7w"
      },
      "execution_count": null,
      "outputs": []
    },
    {
      "cell_type": "code",
      "source": [
        "plt.plot(x,y)\n",
        "plt.show()"
      ],
      "metadata": {
        "colab": {
          "base_uri": "https://localhost:8080/",
          "height": 265
        },
        "id": "lvRerPANqyVG",
        "outputId": "19e26053-b3d3-4acd-f9ef-d79bbc65c754"
      },
      "execution_count": null,
      "outputs": [
        {
          "output_type": "display_data",
          "data": {
            "text/plain": [
              "<Figure size 432x288 with 1 Axes>"
            ],
            "image/png": "[encoded data removed]"
          },
          "metadata": {
            "needs_background": "light"
          }
        }
      ]
    },
    {
      "cell_type": "code",
      "source": [
        "plt.plot(x,z)\n",
        "plt.show()"
      ],
      "metadata": {
        "colab": {
          "base_uri": "https://localhost:8080/",
          "height": 265
        },
        "id": "hglYGVw-q8DW",
        "outputId": "fd4bd96e-2180-40b2-f4ba-5cfde240ab9c"
      },
      "execution_count": null,
      "outputs": [
        {
          "output_type": "display_data",
          "data": {
            "text/plain": [
              "<Figure size 432x288 with 1 Axes>"
            ],
            "image/png": "[encoded data removed]"
          },
          "metadata": {
            "needs_background": "light"
          }
        }
      ]
    },
    {
      "cell_type": "code",
      "source": [
        "plt.plot(x,y)\n",
        "plt.xlabel('angle')\n",
        "plt.ylabel('sin')\n",
        "plt.title('sinwave')\n",
        "plt.show()"
      ],
      "metadata": {
        "colab": {
          "base_uri": "https://localhost:8080/",
          "height": 295
        },
        "id": "I3PFtF7jrUKA",
        "outputId": "e2b147f5-d95d-4b86-dff1-198d98850eb4"
      },
      "execution_count": null,
      "outputs": [
        {
          "output_type": "display_data",
          "data": {
            "text/plain": [
              "<Figure size 432x288 with 1 Axes>"
            ],
            "image/png": "[encoded data removed]"
          },
          "metadata": {
            "needs_background": "light"
          }
        }
      ]
    },
    {
      "cell_type": "code",
      "source": [
        "x = np.linspace(-10,10,20)\n",
        "y = x**2\n",
        "plt.plot(x,y)"
      ],
      "metadata": {
        "colab": {
          "base_uri": "https://localhost:8080/",
          "height": 282
        },
        "id": "kLk3haFcr1vD",
        "outputId": "f2adc007-943e-49dc-c344-c637007fda85"
      },
      "execution_count": null,
      "outputs": [
        {
          "output_type": "execute_result",
          "data": {
            "text/plain": [
              "[<matplotlib.lines.Line2D at 0x7fa3a9705910>]"
            ]
          },
          "metadata": {},
          "execution_count": 76
        },
        {
          "output_type": "display_data",
          "data": {
            "text/plain": [
              "<Figure size 432x288 with 1 Axes>"
            ],
            "image/png": "[encoded data removed]"
          },
          "metadata": {
            "needs_background": "light"
          }
        }
      ]
    },
    {
      "cell_type": "code",
      "source": [
        "plt.plot(x,y,'r+')"
      ],
      "metadata": {
        "colab": {
          "base_uri": "https://localhost:8080/",
          "height": 282
        },
        "id": "FybR-Zn6sLHe",
        "outputId": "9ad2c279-34d7-43f7-d411-ef9b18b57671"
      },
      "execution_count": null,
      "outputs": [
        {
          "output_type": "execute_result",
          "data": {
            "text/plain": [
              "[<matplotlib.lines.Line2D at 0x7fa3a96f29d0>]"
            ]
          },
          "metadata": {},
          "execution_count": 77
        },
        {
          "output_type": "display_data",
          "data": {
            "text/plain": [
              "<Figure size 432x288 with 1 Axes>"
            ],
            "image/png": "[encoded data removed]"
          },
          "metadata": {
            "needs_background": "light"
          }
        }
      ]
    },
    {
      "cell_type": "code",
      "source": [
        "plt.plot(x,y,'g--')"
      ],
      "metadata": {
        "colab": {
          "base_uri": "https://localhost:8080/",
          "height": 282
        },
        "id": "Caj7B-dUsd-H",
        "outputId": "1a08697e-cc5c-4c78-908c-1d4699dfd45b"
      },
      "execution_count": null,
      "outputs": [
        {
          "output_type": "execute_result",
          "data": {
            "text/plain": [
              "[<matplotlib.lines.Line2D at 0x7fa3a9839810>]"
            ]
          },
          "metadata": {},
          "execution_count": 78
        },
        {
          "output_type": "display_data",
          "data": {
            "text/plain": [
              "<Figure size 432x288 with 1 Axes>"
            ],
            "image/png": "[encoded data removed]"
          },
          "metadata": {
            "needs_background": "light"
          }
        }
      ]
    },
    {
      "cell_type": "code",
      "source": [
        "x = np.linspace(-5,5,50)\n",
        "plt.plot(x,np.sin(x),'g--')\n",
        "plt.plot(x,np.cos(x),'r--')"
      ],
      "metadata": {
        "colab": {
          "base_uri": "https://localhost:8080/",
          "height": 282
        },
        "id": "KtwdKWNPsmjA",
        "outputId": "14b6c878-e871-4f1e-c033-ea2a38fbdd39"
      },
      "execution_count": null,
      "outputs": [
        {
          "output_type": "execute_result",
          "data": {
            "text/plain": [
              "[<matplotlib.lines.Line2D at 0x7fa3a9694090>]"
            ]
          },
          "metadata": {},
          "execution_count": 83
        },
        {
          "output_type": "display_data",
          "data": {
            "text/plain": [
              "<Figure size 432x288 with 1 Axes>"
            ],
            "image/png": "[encoded data removed]"
          },
          "metadata": {
            "needs_background": "light"
          }
        }
      ]
    },
    {
      "cell_type": "code",
      "source": [
        "fig = plt.figure()\n",
        "ax = fig.add_axes([0,0,1,1])\n",
        "languages = ['English','French','Spanish','Latin','Greece']\n",
        "people = [100,50,60,70,80]\n",
        "ax.bar(languages,people)\n",
        "plt.xlabel('LANGUAGES')\n",
        "plt.ylabel('NO OF PEOPLE')"
      ],
      "metadata": {
        "colab": {
          "base_uri": "https://localhost:8080/",
          "height": 367
        },
        "id": "QwU0x8g4tG2Q",
        "outputId": "ee8c051e-c7b6-475f-b5d1-2504243f7c18"
      },
      "execution_count": null,
      "outputs": [
        {
          "output_type": "execute_result",
          "data": {
            "text/plain": [
              "Text(0, 0.5, 'NO OF PEOPLE')"
            ]
          },
          "metadata": {},
          "execution_count": 86
        },
        {
          "output_type": "display_data",
          "data": {
            "text/plain": [
              "<Figure size 432x288 with 1 Axes>"
            ],
            "image/png": "[encoded data removed]"
          },
          "metadata": {
            "needs_background": "light"
          }
        }
      ]
    },
    {
      "cell_type": "code",
      "source": [
        "fig2 = plt.figure()\n",
        "bx = fig2.add_axes([0,0,1,1])\n",
        "languages = ['English','French','Spanish','Latin','Greece']\n",
        "people = [100,50,60,70,80]\n",
        "bx.pie(people,labels=languages,autopct='%1.1f%%')"
      ],
      "metadata": {
        "colab": {
          "base_uri": "https://localhost:8080/",
          "height": 579
        },
        "id": "C5RK0bCAtXru",
        "outputId": "ed088e2e-7255-406c-db82-dce0914de1ee"
      },
      "execution_count": null,
      "outputs": [
        {
          "output_type": "execute_result",
          "data": {
            "text/plain": [
              "([<matplotlib.patches.Wedge at 0x7fa3a9456e10>,\n",
              "  <matplotlib.patches.Wedge at 0x7fa3a9462590>,\n",
              "  <matplotlib.patches.Wedge at 0x7fa3a9462e10>,\n",
              "  <matplotlib.patches.Wedge at 0x7fa3a946c750>,\n",
              "  <matplotlib.patches.Wedge at 0x7fa3a94772d0>],\n",
              " [Text(0.7070663355909782, 0.8426489168532447, 'English'),\n",
              "  Text(-0.6309341737239298, 0.9010671830819843, 'French'),\n",
              "  Text(-1.0999999999999892, -1.5448414893833034e-07, 'Spanish'),\n",
              "  Text(-0.4648799219767632, -0.9969386431184614, 'Latin'),\n",
              "  Text(0.8426490161537282, -0.7070662172492433, 'Greece')],\n",
              " [Text(0.38567254668598805, 0.4596266819199516, '27.8%'),\n",
              "  Text(-0.3441459129403253, 0.4914911907719913, '13.9%'),\n",
              "  Text(-0.5999999999999941, -8.426408123908927e-08, '16.7%'),\n",
              "  Text(-0.2535708665327799, -0.5437847144282516, '19.4%'),\n",
              "  Text(0.4596267360838517, -0.38567248213595084, '22.2%')])"
            ]
          },
          "metadata": {},
          "execution_count": 92
        },
        {
          "output_type": "display_data",
          "data": {
            "text/plain": [
              "<Figure size 432x288 with 1 Axes>"
            ],
            "image/png": "[encoded data removed]"
          },
          "metadata": {}
        }
      ]
    },
    {
      "cell_type": "code",
      "source": [
        "\n",
        "\n",
        "\n",
        "import matplotlib.pyplot as plt\n",
        "import numpy as np\n"
      ],
      "metadata": {
        "id": "PvPKDZVzwfyK"
      },
      "execution_count": null,
      "outputs": []
    },
    {
      "cell_type": "code",
      "source": [
        "x = np.linspace(0,10,30)\n",
        "y = np.sin(x)\n",
        "z= np.cos(x)\n",
        "fig3 = plt.figure()\n",
        "ax = fig3.add_axes([0,0,1,1])\n",
        "ax.scatter(x,y,color = 'g')\n",
        "ax.scatter(x,z,color = 'r')"
      ],
      "metadata": {
        "colab": {
          "base_uri": "https://localhost:8080/",
          "height": 353
        },
        "id": "jyK9DFpWxoVA",
        "outputId": "7fe75c8e-1d30-4766-98ec-24cd68e434e9"
      },
      "execution_count": null,
      "outputs": [
        {
          "output_type": "execute_result",
          "data": {
            "text/plain": [
              "<matplotlib.collections.PathCollection at 0x7f42faa829d0>"
            ]
          },
          "metadata": {},
          "execution_count": 4
        },
        {
          "output_type": "display_data",
          "data": {
            "text/plain": [
              "<Figure size 432x288 with 1 Axes>"
            ],
            "image/png": "[encoded data removed]"
          },
          "metadata": {
            "needs_background": "light"
          }
        }
      ]
    },
    {
      "cell_type": "code",
      "source": [
        "fig4 = plt.figure()\n",
        "ax = plt.axes(projection = '3d')\n",
        "z = 20* np.random.random(100)\n",
        "x = np.sin(z)\n",
        "y = np.cos(z)\n",
        "ax.scatter(x,y,z,cmap = 'b')"
      ],
      "metadata": {
        "colab": {
          "base_uri": "https://localhost:8080/",
          "height": 265
        },
        "id": "6cSmxsfjyDKr",
        "outputId": "9126ebc1-4ab2-475a-9fc7-043b00dd8d80"
      },
      "execution_count": null,
      "outputs": [
        {
          "output_type": "execute_result",
          "data": {
            "text/plain": [
              "<mpl_toolkits.mplot3d.art3d.Path3DCollection at 0x7f42fab00650>"
            ]
          },
          "metadata": {},
          "execution_count": 5
        },
        {
          "output_type": "display_data",
          "data": {
            "text/plain": [
              "<Figure size 432x288 with 1 Axes>"
            ],
            "image/png": "[encoded data removed]"
          },
          "metadata": {
            "needs_background": "light"
          }
        }
      ]
    },
    {
      "cell_type": "code",
      "source": [
        "# seaborn"
      ],
      "metadata": {
        "id": "7PRSBE9C0tT5"
      },
      "execution_count": null,
      "outputs": []
    },
    {
      "cell_type": "code",
      "source": [
        "import seaborn as  sns\n",
        "import matplotlib.pyplot as plt\n",
        "import numpy as np\n",
        "import pandas as pd"
      ],
      "metadata": {
        "id": "IO3Igvs21MKO"
      },
      "execution_count": null,
      "outputs": []
    },
    {
      "cell_type": "code",
      "source": [
        "tips = sns.load_dataset('tips')\n",
        "tips"
      ],
      "metadata": {
        "colab": {
          "base_uri": "https://localhost:8080/",
          "height": 424
        },
        "id": "-cnUeyul2Gc7",
        "outputId": "5f8670a7-1d55-4ce5-abed-b2c7f2fe632e"
      },
      "execution_count": null,
      "outputs": [
        {
          "output_type": "execute_result",
          "data": {
            "text/plain": [
              "     total_bill   tip     sex smoker   day    time  size\n",
              "0         16.99  1.01  Female     No   Sun  Dinner     2\n",
              "1         10.34  1.66    Male     No   Sun  Dinner     3\n",
              "2         21.01  3.50    Male     No   Sun  Dinner     3\n",
              "3         23.68  3.31    Male     No   Sun  Dinner     2\n",
              "4         24.59  3.61  Female     No   Sun  Dinner     4\n",
              "..          ...   ...     ...    ...   ...     ...   ...\n",
              "239       29.03  5.92    Male     No   Sat  Dinner     3\n",
              "240       27.18  2.00  Female    Yes   Sat  Dinner     2\n",
              "241       22.67  2.00    Male    Yes   Sat  Dinner     2\n",
              "242       17.82  1.75    Male     No   Sat  Dinner     2\n",
              "243       18.78  3.00  Female     No  Thur  Dinner     2\n",
              "\n",
              "[244 rows x 7 columns]"
            ],
            "text/html": [
              "\n",
              "  <div id=\"df-21a9f683-3825-4fc8-8066-e086c7351854\">\n",
              "    <div class=\"colab-df-container\">\n",
              "      <div>\n",
              "<style scoped>\n",
              "    .dataframe tbody tr th:only-of-type {\n",
              "        vertical-align: middle;\n",
              "    }\n",
              "\n",
              "    .dataframe tbody tr th {\n",
              "        vertical-align: top;\n",
              "    }\n",
              "\n",
              "    .dataframe thead th {\n",
              "        text-align: right;\n",
              "    }\n",
              "</style>\n",
              "<table border=\"1\" class=\"dataframe\">\n",
              "  <thead>\n",
              "    <tr style=\"text-align: right;\">\n",
              "      <th></th>\n",
              "      <th>total_bill</th>\n",
              "      <th>tip</th>\n",
              "      <th>sex</th>\n",
              "      <th>smoker</th>\n",
              "      <th>day</th>\n",
              "      <th>time</th>\n",
              "      <th>size</th>\n",
              "    </tr>\n",
              "  </thead>\n",
              "  <tbody>\n",
              "    <tr>\n",
              "      <th>0</th>\n",
              "      <td>16.99</td>\n",
              "      <td>1.01</td>\n",
              "      <td>Female</td>\n",
              "      <td>No</td>\n",
              "      <td>Sun</td>\n",
              "      <td>Dinner</td>\n",
              "      <td>2</td>\n",
              "    </tr>\n",
              "    <tr>\n",
              "      <th>1</th>\n",
              "      <td>10.34</td>\n",
              "      <td>1.66</td>\n",
              "      <td>Male</td>\n",
              "      <td>No</td>\n",
              "      <td>Sun</td>\n",
              "      <td>Dinner</td>\n",
              "      <td>3</td>\n",
              "    </tr>\n",
              "    <tr>\n",
              "      <th>2</th>\n",
              "      <td>21.01</td>\n",
              "      <td>3.50</td>\n",
              "      <td>Male</td>\n",
              "      <td>No</td>\n",
              "      <td>Sun</td>\n",
              "      <td>Dinner</td>\n",
              "      <td>3</td>\n",
              "    </tr>\n",
              "    <tr>\n",
              "      <th>3</th>\n",
              "      <td>23.68</td>\n",
              "      <td>3.31</td>\n",
              "      <td>Male</td>\n",
              "      <td>No</td>\n",
              "      <td>Sun</td>\n",
              "      <td>Dinner</td>\n",
              "      <td>2</td>\n",
              "    </tr>\n",
              "    <tr>\n",
              "      <th>4</th>\n",
              "      <td>24.59</td>\n",
              "      <td>3.61</td>\n",
              "      <td>Female</td>\n",
              "      <td>No</td>\n",
              "      <td>Sun</td>\n",
              "      <td>Dinner</td>\n",
              "      <td>4</td>\n",
              "    </tr>\n",
              "    <tr>\n",
              "      <th>...</th>\n",
              "      <td>...</td>\n",
              "      <td>...</td>\n",
              "      <td>...</td>\n",
              "      <td>...</td>\n",
              "      <td>...</td>\n",
              "      <td>...</td>\n",
              "      <td>...</td>\n",
              "    </tr>\n",
              "    <tr>\n",
              "      <th>239</th>\n",
              "      <td>29.03</td>\n",
              "      <td>5.92</td>\n",
              "      <td>Male</td>\n",
              "      <td>No</td>\n",
              "      <td>Sat</td>\n",
              "      <td>Dinner</td>\n",
              "      <td>3</td>\n",
              "    </tr>\n",
              "    <tr>\n",
              "      <th>240</th>\n",
              "      <td>27.18</td>\n",
              "      <td>2.00</td>\n",
              "      <td>Female</td>\n",
              "      <td>Yes</td>\n",
              "      <td>Sat</td>\n",
              "      <td>Dinner</td>\n",
              "      <td>2</td>\n",
              "    </tr>\n",
              "    <tr>\n",
              "      <th>241</th>\n",
              "      <td>22.67</td>\n",
              "      <td>2.00</td>\n",
              "      <td>Male</td>\n",
              "      <td>Yes</td>\n",
              "      <td>Sat</td>\n",
              "      <td>Dinner</td>\n",
              "      <td>2</td>\n",
              "    </tr>\n",
              "    <tr>\n",
              "      <th>242</th>\n",
              "      <td>17.82</td>\n",
              "      <td>1.75</td>\n",
              "      <td>Male</td>\n",
              "      <td>No</td>\n",
              "      <td>Sat</td>\n",
              "      <td>Dinner</td>\n",
              "      <td>2</td>\n",
              "    </tr>\n",
              "    <tr>\n",
              "      <th>243</th>\n",
              "      <td>18.78</td>\n",
              "      <td>3.00</td>\n",
              "      <td>Female</td>\n",
              "      <td>No</td>\n",
              "      <td>Thur</td>\n",
              "      <td>Dinner</td>\n",
              "      <td>2</td>\n",
              "    </tr>\n",
              "  </tbody>\n",
              "</table>\n",
              "<p>244 rows × 7 columns</p>\n",
              "</div>\n",
              "      <button class=\"colab-df-convert\" onclick=\"convertToInteractive('df-21a9f683-3825-4fc8-8066-e086c7351854')\"\n",
              "              title=\"Convert this dataframe to an interactive table.\"\n",
              "              style=\"display:none;\">\n",
              "        \n",
              "  <svg xmlns=\"http://www.w3.org/2000/svg\" height=\"24px\"viewBox=\"0 0 24 24\"\n",
              "       width=\"24px\">\n",
              "    <path d=\"M0 0h24v24H0V0z\" fill=\"none\"/>\n",
              "    <path d=\"M18.56 5.44l.94 2.06.94-2.06 2.06-.94-2.06-.94-.94-2.06-.94 2.06-2.06.94zm-11 1L8.5 8.5l.94-2.06 2.06-.94-2.06-.94L8.5 2.5l-.94 2.06-2.06.94zm10 10l.94 2.06.94-2.06 2.06-.94-2.06-.94-.94-2.06-.94 2.06-2.06.94z\"/><path d=\"M17.41 7.96l-1.37-1.37c-.4-.4-.92-.59-1.43-.59-.52 0-1.04.2-1.43.59L10.3 9.45l-7.72 7.72c-.78.78-.78 2.05 0 2.83L4 21.41c.39.39.9.59 1.41.59.51 0 1.02-.2 1.41-.59l7.78-7.78 2.81-2.81c.8-.78.8-2.07 0-2.86zM5.41 20L4 18.59l7.72-7.72 1.47 1.35L5.41 20z\"/>\n",
              "  </svg>\n",
              "      </button>\n",
              "      \n",
              "  <style>\n",
              "    .colab-df-container {\n",
              "      display:flex;\n",
              "      flex-wrap:wrap;\n",
              "      gap: 12px;\n",
              "    }\n",
              "\n",
              "    .colab-df-convert {\n",
              "      background-color: #E8F0FE;\n",
              "      border: none;\n",
              "      border-radius: 50%;\n",
              "      cursor: pointer;\n",
              "      display: none;\n",
              "      fill: #1967D2;\n",
              "      height: 32px;\n",
              "      padding: 0 0 0 0;\n",
              "      width: 32px;\n",
              "    }\n",
              "\n",
              "    .colab-df-convert:hover {\n",
              "      background-color: #E2EBFA;\n",
              "      box-shadow: 0px 1px 2px rgba(60, 64, 67, 0.3), 0px 1px 3px 1px rgba(60, 64, 67, 0.15);\n",
              "      fill: #174EA6;\n",
              "    }\n",
              "\n",
              "    [theme=dark] .colab-df-convert {\n",
              "      background-color: #3B4455;\n",
              "      fill: #D2E3FC;\n",
              "    }\n",
              "\n",
              "    [theme=dark] .colab-df-convert:hover {\n",
              "      background-color: #434B5C;\n",
              "      box-shadow: 0px 1px 3px 1px rgba(0, 0, 0, 0.15);\n",
              "      filter: drop-shadow(0px 1px 2px rgba(0, 0, 0, 0.3));\n",
              "      fill: #FFFFFF;\n",
              "    }\n",
              "  </style>\n",
              "\n",
              "      <script>\n",
              "        const buttonEl =\n",
              "          document.querySelector('#df-21a9f683-3825-4fc8-8066-e086c7351854 button.colab-df-convert');\n",
              "        buttonEl.style.display =\n",
              "          google.colab.kernel.accessAllowed ? 'block' : 'none';\n",
              "\n",
              "        async function convertToInteractive(key) {\n",
              "          const element = document.querySelector('#df-21a9f683-3825-4fc8-8066-e086c7351854');\n",
              "          const dataTable =\n",
              "            await google.colab.kernel.invokeFunction('convertToInteractive',\n",
              "                                                     [key], {});\n",
              "          if (!dataTable) return;\n",
              "\n",
              "          const docLinkHtml = 'Like what you see? Visit the ' +\n",
              "            '<a target=\"_blank\" href=https://colab.research.google.com/notebooks/data_table.ipynb>data table notebook</a>'\n",
              "            + ' to learn more about interactive tables.';\n",
              "          element.innerHTML = '';\n",
              "          dataTable['output_type'] = 'display_data';\n",
              "          await google.colab.output.renderOutput(dataTable, element);\n",
              "          const docLink = document.createElement('div');\n",
              "          docLink.innerHTML = docLinkHtml;\n",
              "          element.appendChild(docLink);\n",
              "        }\n",
              "      </script>\n",
              "    </div>\n",
              "  </div>\n",
              "  "
            ]
          },
          "metadata": {},
          "execution_count": 11
        }
      ]
    },
    {
      "cell_type": "code",
      "source": [
        "sns.relplot(data= tips,x='total_bill',y='tip',col= 'time',hue= 'smoker',style = 'smoker',size= 'size')"
      ],
      "metadata": {
        "colab": {
          "base_uri": "https://localhost:8080/",
          "height": 387
        },
        "id": "nj0jIP_m3MpI",
        "outputId": "f3d428ee-b0d8-4534-ce7d-445be46dc5f9"
      },
      "execution_count": null,
      "outputs": [
        {
          "output_type": "execute_result",
          "data": {
            "text/plain": [
              "<seaborn.axisgrid.FacetGrid at 0x7f42e2fdd850>"
            ]
          },
          "metadata": {},
          "execution_count": 22
        },
        {
          "output_type": "display_data",
          "data": {
            "text/plain": [
              "<Figure size 772.5x360 with 2 Axes>"
            ],
            "image/png": "[encoded data removed]"
          },
          "metadata": {
            "needs_background": "light"
          }
        }
      ]
    },
    {
      "cell_type": "code",
      "source": [
        "sns.relplot(data= tips,x='total_bill',y='tip',col= 'time',hue= 'smoker')"
      ],
      "metadata": {
        "colab": {
          "base_uri": "https://localhost:8080/",
          "height": 387
        },
        "id": "pWTJyg7f4fhR",
        "outputId": "b06269b3-c08a-4320-9f42-57dcd303c911"
      },
      "execution_count": null,
      "outputs": [
        {
          "output_type": "execute_result",
          "data": {
            "text/plain": [
              "<seaborn.axisgrid.FacetGrid at 0x7f42e2db0bd0>"
            ]
          },
          "metadata": {},
          "execution_count": 24
        },
        {
          "output_type": "display_data",
          "data": {
            "text/plain": [
              "<Figure size 772x360 with 2 Axes>"
            ],
            "image/png": "[encoded data removed]"
          },
          "metadata": {
            "needs_background": "light"
          }
        }
      ]
    },
    {
      "cell_type": "code",
      "source": [],
      "metadata": {
        "id": "r-IUg_956Uq1"
      },
      "execution_count": null,
      "outputs": []
    }
  ],
  "metadata": {
    "kernelspec": {
      "display_name": "Python 3",
      "language": "python",
      "name": "python3"
    },
    "language_info": {
      "codemirror_mode": {
        "name": "ipython",
        "version": 3
      },
      "file_extension": ".py",
      "mimetype": "text/x-python",
      "name": "python",
      "nbconvert_exporter": "python",
      "pygments_lexer": "ipython3",
      "version": "3.7.3"
    },
    "colab": {
      "provenance": []
    }
  },
  "nbformat": 4,
  "nbformat_minor": 0
}